{
 "cells": [
  {
   "cell_type": "code",
   "execution_count": null,
   "metadata": {
    "collapsed": false
   },
   "outputs": [],
   "source": [
    "import xml.etree.ElementTree\n",
    "import os, os.path, shutil\n",
    "os.sep = '/'\n",
    "from gedcom import Gedcom, GedcomReader, GedcomWriter\n",
    "\n",
    "def copy_tree_image(img_path):\n",
    "    shutil.copy(src=img_path, dst='static/tree/tree_img'+os.path.splitext(img_path)[-1])\n",
    "    shutil.copy(src=os.path.splitext(img_path)[0]+'.xml', dst='../data/tree_img.xml')\n",
    "\n",
    "\n",
    "\n",
    "import random, string\n",
    "def random_string(length, letters=None):\n",
    "    letters = string.ascii_lowercase + string.digits\n",
    "    return ''.join(random.choice(letters) for i in range(length))\n",
    "            \n",
    "def pack_documents(gedcom, folder):\n",
    "    if os.path.exists(folder):\n",
    "        shutil.rmtree(folder)\n",
    "    os.makedirs(folder)\n",
    "    relative_pathes = {}\n",
    "    for person in gedcom.persons:\n",
    "        person_uid = person.get('_UID')\n",
    "        person_folder = os.path.join(folder, person_uid)\n",
    "        all_documents = [doc for doc in person.documents if doc.get('DFLT') == 'T'] #+ [doc for event in person.events for doc in event.documents]\n",
    "        for document in all_documents:\n",
    "            document_path = document.get('FILE')\n",
    "            if document_path is None or not os.path.exists(document_path):\n",
    "                document['FILE'] = \"\"\n",
    "                continue\n",
    "            if document_path not in relative_pathes:\n",
    "                ext = os.path.splitext(document_path)[-1]\n",
    "                new_document_name = random_string(10)+ext\n",
    "                if not os.path.exists(person_folder):\n",
    "                    os.makedirs(person_folder)\n",
    "                new_document_path = os.path.join(person_folder, new_document_name)   \n",
    "                shutil.copy(src=document_path, dst=new_document_path)\n",
    "                rel_document_path = os.path.join(person_uid, new_document_name)\n",
    "                relative_pathes[document_path] = rel_document_path\n",
    "            \n",
    "            document['FILE'] = relative_pathes[document_path]\n"
   ]
  },
  {
   "cell_type": "code",
   "execution_count": null,
   "metadata": {
    "collapsed": false
   },
   "outputs": [],
   "source": [
    "# читаем gedcom\n",
    "gedcom = GedcomReader().read_gedcom(r'D:/Документы/My Family/site/tree.ged')\n",
    "treexml = xml.etree.ElementTree.parse('D:/Документы/My Family/site/tree.xml').getroot()\n",
    "\n",
    "copy_tree_image(r'D:/Документы/My Family/site/tree_img.png')\n",
    "set_default_documents_for_persons(gedcom, treexml)\n",
    "set_documents_to_marriage(gedcom)\n",
    "set_divorce_events_to_families(gedcom, treexml)\n",
    "pack_documents(gedcom, 'static/tree/tr_tree.files')\n",
    "\n",
    "GedcomWriter().write_gedcom(gedcom, '../data/tr_tree.ged')"
   ]
  },
  {
   "cell_type": "code",
   "execution_count": null,
   "metadata": {
    "collapsed": false
   },
   "outputs": [],
   "source": [
    "import pandas\n",
    "events = pandas.read_csv('data/events.csv', sep=';', skiprows=1)\n",
    "persons = pandas.read_csv('data/persons.csv', sep=';', skiprows=1)\n",
    "documents = pandas.read_csv('data/documents.csv', sep=';', skiprows=1)\n",
    "\n",
    "gedcom = GedcomReader().read_gedcom('data/exmp.ged')\n",
    "print(len(gedcom.persons))\n",
    "for family in gedcom.families:\n",
    "    print(family)"
   ]
  },
  {
   "cell_type": "code",
   "execution_count": null,
   "metadata": {
    "collapsed": false
   },
   "outputs": [],
   "source": [
    "from app_utils import first_or_default\n",
    "\n",
    "gedcom = GedcomReader().read_gedcom('data/exmp.ged')\n",
    "person = gedcom.persons[0]\n",
    "print([(e.event_type, e) for e in person.events])\n",
    "death_event = first_or_default(person.events, lambda e: e.event_type == \"DEAT\")\n",
    "print(death_event)\n",
    "if death_event is not None:\n",
    "    print('death')"
   ]
  },
  {
   "cell_type": "code",
   "execution_count": null,
   "metadata": {
    "collapsed": false,
    "scrolled": false
   },
   "outputs": [],
   "source": [
    "import upload\n",
    "archive = upload.create_package(r'D:\\site', 'data')\n",
    "print(archive)"
   ]
  },
  {
   "cell_type": "code",
   "execution_count": null,
   "metadata": {
    "collapsed": true
   },
   "outputs": [],
   "source": [
    "def split_binary_file(filename, chunk_size=50*1024*1024):\n",
    "    \"\"\"split file into chunks of size\"\"\"\n",
    "    \n",
    "    f = open(filename, 'rb')\n",
    "    data = f.read()\n",
    "    f.close()\n",
    "\n",
    "    count_chunks = int(len(data)/chunk_size + bool(len(data)%chunk_size))\n",
    "    for i in range(0, count_chunks):\n",
    "        chunk_filename = filename+\".{0:000}\".format(i+1)\n",
    "        f = open(chunk_filename, 'wb+')\n",
    "        f.write(data[i*chunk_size: (i+1)*chunk_size])\n",
    "        f.close()"
   ]
  },
  {
   "cell_type": "code",
   "execution_count": null,
   "metadata": {
    "collapsed": false
   },
   "outputs": [],
   "source": [
    "split_binary_file(r'D:\\site\\data.zip')"
   ]
  },
  {
   "cell_type": "code",
   "execution_count": null,
   "metadata": {
    "collapsed": false
   },
   "outputs": [],
   "source": [
    "import upload\n",
    "archive = r'D:\\site\\data.zip'\n",
    "upload.load_package(archive, \n",
    "                    r'C:\\Users\\Ksenia\\Documents\\IPython Notebooks\\genotree\\src\\static\\tree',\n",
    "                    r'C:\\Users\\Ksenia\\Documents\\IPython Notebooks\\genotree\\data\\tree')"
   ]
  },
  {
   "cell_type": "code",
   "execution_count": null,
   "metadata": {
    "collapsed": false
   },
   "outputs": [],
   "source": [
    "from gedcom import Gedcom, GedcomReader, GedcomWriter\n",
    "gedcom = GedcomReader().read_gedcom('D:/site/tree.ged')"
   ]
  },
  {
   "cell_type": "code",
   "execution_count": null,
   "metadata": {
    "collapsed": false
   },
   "outputs": [],
   "source": [
    "gedcom = GedcomReader().read_gedcom('data/exmp.ged')"
   ]
  },
  {
   "cell_type": "code",
   "execution_count": null,
   "metadata": {
    "collapsed": true
   },
   "outputs": [],
   "source": []
  }
 ],
 "metadata": {
  "kernelspec": {
   "display_name": "Python 3",
   "language": "python",
   "name": "python3"
  },
  "language_info": {
   "codemirror_mode": {
    "name": "ipython",
    "version": 3
   },
   "file_extension": ".py",
   "mimetype": "text/x-python",
   "name": "python",
   "nbconvert_exporter": "python",
   "pygments_lexer": "ipython3",
   "version": "3.4.5"
  }
 },
 "nbformat": 4,
 "nbformat_minor": 0
}
