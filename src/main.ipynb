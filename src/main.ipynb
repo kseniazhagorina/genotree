{
 "cells": [
  {
   "cell_type": "code",
   "execution_count": 29,
   "metadata": {
    "collapsed": false
   },
   "outputs": [],
   "source": [
    "import xml.etree.ElementTree\n",
    "import os, os.path, shutil\n",
    "os.sep = '/'\n",
    "from gedcom import Gedcom, GedcomReader, GedcomWriter\n",
    "\n",
    "def copy_tree_image(img_path):\n",
    "    shutil.copy(src=img_path, dst='static/tree_img'+os.path.splitext(img_path)[-1])\n",
    "    shutil.copy(src=os.path.splitext(img_path)[0]+'.xml', dst='data/tree_img.xml')\n",
    "\n",
    "def set_default_documents_for_persons(gedcom, treexml):\n",
    "    '''для каждого документа персоны находим \"основной\" и проставляем ему тег default (DFLT)'''\n",
    "    # составляем словарь uid персоны -> title основного документа\n",
    "    default_documents = dict()\n",
    "    for person in treexml.iter('r'):\n",
    "        person_uid = person.attrib['id']\n",
    "        for document in person.iter('doc'):\n",
    "            if document.get('default') == \"T\":\n",
    "                title_element = document.find('title')\n",
    "                if title_element is not None:\n",
    "                    title = title_element.text\n",
    "                    default_documents[person_uid] = title\n",
    "                    break\n",
    "                else:\n",
    "                    print('Документ установленный как основной для ['+person.find('fullname').text +'] не имеет заголовка')\n",
    "    # по созданному списку выставляем аттрибут DFLT для основных документов персоны\n",
    "    for person in gedcom.persons:\n",
    "        person_uid = person.get('_UID')\n",
    "        if person_uid not in default_documents:\n",
    "            continue\n",
    "        has_default = False\n",
    "        for document in person.documents:\n",
    "            title = document.get('TITL')\n",
    "            if default_documents[person_uid] == title:\n",
    "                document['DFLT'] = 'T'\n",
    "                has_default = True\n",
    "                break\n",
    "        if not has_default and len(person.documents) > 0:\n",
    "            print('Person '+person_uid+' has not default document with title '+ default_documents[person_uid])\n",
    "\n",
    "def set_divorce_events_to_families(gedcom, treexml):\n",
    "    '''Устанавниваем событие развод для семьи (оно есть в treexml, но отсутствует в gedcom)'''\n",
    "    # по gedcom составляем список (uid-супруга1, uid-супруга2) -> family\n",
    "    person_id_to_uid = dict()\n",
    "    for person in gedcom.persons:\n",
    "        person_id_to_uid[person.id] = person.get('_UID', 'unknown')\n",
    "    \n",
    "    families_by_uids = dict()\n",
    "    for family in gedcom.families:\n",
    "        husb_uid = person_id_to_uid.get(family.get('HUSB'), '')\n",
    "        wife_uid = person_id_to_uid.get(family.get('WIFE'), '')\n",
    "        \n",
    "        families_by_uids[(husb_uid, wife_uid)] = family\n",
    "        families_by_uids[(wife_uid, husb_uid)] = family\n",
    "\n",
    "        \n",
    "    # по xml находим у людей события divorce\n",
    "    for person in treexml.iter('r'):\n",
    "        person_uid = person.attrib['id']\n",
    "        for spouse in person.iter('spouse'):\n",
    "            spouse_uid = spouse.get('id')\n",
    "            family = families_by_uids.get((person_uid, spouse_uid)) or families_by_uids.get((spouse_uid, person_uid))\n",
    "            if family is None:\n",
    "                print('Family ', (person_uid, spouse_uid), ' is not found')\n",
    "                continue\n",
    "            divorce = spouse.find('divorce')\n",
    "            if divorce is not None:\n",
    "                divorce_event = Gedcom.Event('DIV')\n",
    "                date = divorce.find('date')\n",
    "                if date is not None:\n",
    "                    divorce_event['DATE'] = date.text\n",
    "                comment = divorce.find('comment')\n",
    "                if comment is not None:\n",
    "                    divorce_event['NOTE'] = comment\n",
    "                family.events.append(divorce_event)\n",
    "\n",
    "def set_documents_to_marriage(gedcom):\n",
    "    '''документы указанные как документы семьи на самом деле относятся к событию свадьба'''\n",
    "    for family in gedcom.families:\n",
    "        marrs = list(filter(lambda event: event.event_type=='MARR', family.events))\n",
    "        if len(marrs) > 0:\n",
    "            marr = marrs[0]\n",
    "            marr.documents = family.documents\n",
    "            family.documents = []\n",
    "\n",
    "import random, string\n",
    "def random_string(length, letters=None):\n",
    "    letters = string.ascii_lowercase + string.digits\n",
    "    return ''.join(random.choice(letters) for i in range(length))\n",
    "            \n",
    "def pack_documents(gedcom, folder):\n",
    "    if os.path.exists(folder):\n",
    "        shutil.rmtree(folder)\n",
    "    os.makedirs(folder)\n",
    "    relative_pathes = {}\n",
    "    for person in gedcom.persons:\n",
    "        person_uid = person.get('_UID')\n",
    "        person_folder = os.path.join(folder, person_uid)\n",
    "        all_documents = person.documents + [doc for event in person.events for doc in event.documents]\n",
    "        for document in all_documents:\n",
    "            document_path = document.get('FILE')\n",
    "            if document_path is None or not os.path.exists(document_path):\n",
    "                document['FILE'] = \"\"\n",
    "                continue\n",
    "            if document_path not in relative_pathes:\n",
    "                ext = os.path.splitext(document_path)[-1]\n",
    "                new_document_name = random_string(10)+ext\n",
    "                if not os.path.exists(person_folder):\n",
    "                    os.makedirs(person_folder)\n",
    "                new_document_path = os.path.join(person_folder, new_document_name)   \n",
    "                shutil.copy(src=document_path, dst=new_document_path)\n",
    "                rel_document_path = os.path.join(person_uid, new_document_name)\n",
    "                relative_pathes[document_path] = rel_document_path\n",
    "            \n",
    "            document['FILE'] = relative_pathes[document_path]\n"
   ]
  },
  {
   "cell_type": "code",
   "execution_count": 30,
   "metadata": {
    "collapsed": false
   },
   "outputs": [],
   "source": [
    "# читаем gedcom\n",
    "gedcom = GedcomReader().read_gedcom(r'D:/Документы/My Family/site/tree.ged')\n",
    "treexml = xml.etree.ElementTree.parse('D:/Документы/My Family/site/tree.xml').getroot()\n",
    "\n",
    "copy_tree_image(r'D:/Документы/My Family/site/tree_img.png')\n",
    "set_default_documents_for_persons(gedcom, treexml)\n",
    "set_documents_to_marriage(gedcom)\n",
    "set_divorce_events_to_families(gedcom, treexml)\n",
    "pack_documents(gedcom, 'static/tr_tree.files')\n",
    "\n",
    "GedcomWriter().write_gedcom(gedcom, 'data/tr_tree.ged')"
   ]
  },
  {
   "cell_type": "code",
   "execution_count": 109,
   "metadata": {
    "collapsed": false
   },
   "outputs": [
    {
     "name": "stdout",
     "output_type": "stream",
     "text": [
      "0\n"
     ]
    }
   ],
   "source": [
    "import pandas\n",
    "events = pandas.read_csv('data/events.csv', sep=';', skiprows=1)\n",
    "persons = pandas.read_csv('data/persons.csv', sep=';', skiprows=1)\n",
    "documents = pandas.read_csv('data/documents.csv', sep=';', skiprows=1)\n",
    "\n",
    "gedcom = GedcomReader().read_gedcom('data/exmp.ged')\n",
    "print(len(gedcom.persons))\n",
    "for family in gedcom.families:\n",
    "    print(family)"
   ]
  },
  {
   "cell_type": "code",
   "execution_count": 39,
   "metadata": {
    "collapsed": false
   },
   "outputs": [
    {
     "name": "stdout",
     "output_type": "stream",
     "text": [
      "[('BIRT', {'NOTE': 'Старший брат'}), ('DEAT', {}), ('RESI', {'PLAC': 'Россия, Свердловская обл., г.Среднеуральск'})]\n",
      "{}\n",
      "death\n"
     ]
    }
   ],
   "source": [
    "from app_utils import first_or_default\n",
    "\n",
    "gedcom = GedcomReader().read_gedcom('data/exmp.ged')\n",
    "person = gedcom.persons[0]\n",
    "print([(e.event_type, e) for e in person.events])\n",
    "death_event = first_or_default(person.events, lambda e: e.event_type == \"DEAT\")\n",
    "print(death_event)\n",
    "if death_event is not None:\n",
    "    print('death')"
   ]
  },
  {
   "cell_type": "code",
   "execution_count": null,
   "metadata": {
    "collapsed": true
   },
   "outputs": [],
   "source": []
  }
 ],
 "metadata": {
  "kernelspec": {
   "display_name": "Python 3",
   "language": "python",
   "name": "python3"
  },
  "language_info": {
   "codemirror_mode": {
    "name": "ipython",
    "version": 3
   },
   "file_extension": ".py",
   "mimetype": "text/x-python",
   "name": "python",
   "nbconvert_exporter": "python",
   "pygments_lexer": "ipython3",
   "version": "3.4.5"
  }
 },
 "nbformat": 4,
 "nbformat_minor": 0
}
