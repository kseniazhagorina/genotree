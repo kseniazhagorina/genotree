{
 "cells": [
  {
   "cell_type": "code",
   "execution_count": null,
   "metadata": {},
   "outputs": [],
   "source": [
    "import pandas\n",
    "events = pandas.read_csv('data/events.csv', sep=';', skiprows=1)\n",
    "persons = pandas.read_csv('data/persons.csv', sep=';', skiprows=1)\n",
    "documents = pandas.read_csv('data/documents.csv', sep=';', skiprows=1)\n",
    "\n",
    "gedcom = GedcomReader().read_gedcom('data/exmp.ged')\n",
    "print(len(gedcom.persons))\n",
    "for family in gedcom.families:\n",
    "    print(family)"
   ]
  },
  {
   "cell_type": "code",
   "execution_count": 2,
   "metadata": {
    "scrolled": false
   },
   "outputs": [
    {
     "name": "stdout",
     "output_type": "stream",
     "text": [
      "D:\\site\\data.zip\n"
     ]
    }
   ],
   "source": [
    "import upload\n",
    "archive = upload.create_package(r'D:\\site', 'data')\n",
    "print(archive)\n",
    "# scp data.zip kzhagorina@ssh.pythonanywhere.com:~/genotree/upload/data.zip"
   ]
  },
  {
   "cell_type": "code",
   "execution_count": null,
   "metadata": {
    "collapsed": true
   },
   "outputs": [],
   "source": [
    "def split_binary_file(filename, chunk_size=50*1024*1024):\n",
    "    \"\"\"split file into chunks of size\"\"\"\n",
    "    \n",
    "    f = open(filename, 'rb')\n",
    "    data = f.read()\n",
    "    f.close()\n",
    "\n",
    "    count_chunks = int(len(data)/chunk_size + bool(len(data)%chunk_size))\n",
    "    for i in range(0, count_chunks):\n",
    "        chunk_filename = filename+\".{0:000}\".format(i+1)\n",
    "        f = open(chunk_filename, 'wb+')\n",
    "        f.write(data[i*chunk_size: (i+1)*chunk_size])\n",
    "        f.close()"
   ]
  },
  {
   "cell_type": "code",
   "execution_count": null,
   "metadata": {},
   "outputs": [],
   "source": [
    "\n",
    "split_binary_file(r'D:\\site\\data.zip')"
   ]
  },
  {
   "cell_type": "code",
   "execution_count": 1,
   "metadata": {},
   "outputs": [
    {
     "name": "stdout",
     "output_type": "stream",
     "text": [
      "undefined: [PAGE http://ok.ru/profile/121643311] in {}\n",
      "Date of marriage in gedcom: None date in xml: <Element 'date' at 0x00000000065FB5E8> (BEF 2009)\n",
      "Comment of marriage in gedcom: None comment in xml: В 2009-2015 годах вместе построили большой дом (2 этажа + подвал) на окраине г. Екатеринбурга (ул. Байдукова, 67)\n",
      "Place of marriage in gedcom: None place in xml: г.Екатеринбург\n",
      "Marriage of persons RFgpru4rw1 and iyAHSSNXVq does not valid\n",
      "Date of marriage in gedcom: 10 SEP 1966 date in xml: <Element 'date' at 0x00000000092FEBD8> (APR 1972)\n",
      "Comment of marriage in gedcom: None comment in xml: познакомились, когда т.Тамара работала в Н.Серги в воинской части экономистом, а Геннадий работал там же в отделе кадров\n",
      "Place of marriage in gedcom: г.Среднеуральск place in xml: г. Нижние Серги-3\n",
      "Marriage of persons hmff4GlxxT and hmCbFvMhLQ does not valid\n"
     ]
    }
   ],
   "source": [
    "import upload\n",
    "archive = r'D:\\site\\data.zip'\n",
    "upload.load_package(archive, \n",
    "                    r'C:\\Users\\Ksenia\\Documents\\IPython Notebooks\\genotree\\src\\static\\tree',\n",
    "                    r'C:\\Users\\Ksenia\\Documents\\IPython Notebooks\\genotree\\data\\tree')\n",
    "\n",
    "# cd genotree/src\n",
    "# python3\n",
    "# import upload\n",
    "# archive = '../upload/data.zip'\n",
    "# upload.load_package(archive, 'static/tree', '../data/tree')"
   ]
  },
  {
   "cell_type": "code",
   "execution_count": null,
   "metadata": {},
   "outputs": [],
   "source": [
    "from gedcom import Gedcom, GedcomReader, GedcomWriter\n",
    "gedcom = GedcomReader().read_gedcom('D:/site/tree.ged')"
   ]
  },
  {
   "cell_type": "code",
   "execution_count": null,
   "metadata": {},
   "outputs": [],
   "source": [
    "gedcom = GedcomReader().read_gedcom('data/exmp.ged')"
   ]
  }
 ],
 "metadata": {
  "kernelspec": {
   "display_name": "Python 3",
   "language": "python",
   "name": "python3"
  },
  "language_info": {
   "codemirror_mode": {
    "name": "ipython",
    "version": 3
   },
   "file_extension": ".py",
   "mimetype": "text/x-python",
   "name": "python",
   "nbconvert_exporter": "python",
   "pygments_lexer": "ipython3",
   "version": "3.6.4"
  }
 },
 "nbformat": 4,
 "nbformat_minor": 1
}
