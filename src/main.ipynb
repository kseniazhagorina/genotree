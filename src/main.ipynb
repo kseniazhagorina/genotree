{
 "cells": [
  {
   "cell_type": "code",
   "execution_count": 5,
   "metadata": {
    "collapsed": false
   },
   "outputs": [],
   "source": [
    "import xml.etree.ElementTree\n",
    "import os, os.path, shutil\n",
    "os.sep = '/'\n",
    "from gedcom import Gedcom, GedcomReader, GedcomWriter\n",
    "\n",
    "def copy_tree_image(img_path):\n",
    "    shutil.copy(src=img_path, dst='static/tree/tree_img'+os.path.splitext(img_path)[-1])\n",
    "    shutil.copy(src=os.path.splitext(img_path)[0]+'.xml', dst='../data/tree_img.xml')\n",
    "\n",
    "\n",
    "\n",
    "import random, string\n",
    "def random_string(length, letters=None):\n",
    "    letters = string.ascii_lowercase + string.digits\n",
    "    return ''.join(random.choice(letters) for i in range(length))\n",
    "            \n",
    "def pack_documents(gedcom, folder):\n",
    "    if os.path.exists(folder):\n",
    "        shutil.rmtree(folder)\n",
    "    os.makedirs(folder)\n",
    "    relative_pathes = {}\n",
    "    for person in gedcom.persons:\n",
    "        person_uid = person.get('_UID')\n",
    "        person_folder = os.path.join(folder, person_uid)\n",
    "        all_documents = [doc for doc in person.documents if doc.get('DFLT') == 'T'] #+ [doc for event in person.events for doc in event.documents]\n",
    "        for document in all_documents:\n",
    "            document_path = document.get('FILE')\n",
    "            if document_path is None or not os.path.exists(document_path):\n",
    "                document['FILE'] = \"\"\n",
    "                continue\n",
    "            if document_path not in relative_pathes:\n",
    "                ext = os.path.splitext(document_path)[-1]\n",
    "                new_document_name = random_string(10)+ext\n",
    "                if not os.path.exists(person_folder):\n",
    "                    os.makedirs(person_folder)\n",
    "                new_document_path = os.path.join(person_folder, new_document_name)   \n",
    "                shutil.copy(src=document_path, dst=new_document_path)\n",
    "                rel_document_path = os.path.join(person_uid, new_document_name)\n",
    "                relative_pathes[document_path] = rel_document_path\n",
    "            \n",
    "            document['FILE'] = relative_pathes[document_path]\n"
   ]
  },
  {
   "cell_type": "code",
   "execution_count": 6,
   "metadata": {
    "collapsed": false
   },
   "outputs": [],
   "source": [
    "# читаем gedcom\n",
    "gedcom = GedcomReader().read_gedcom(r'D:/Документы/My Family/site/tree.ged')\n",
    "treexml = xml.etree.ElementTree.parse('D:/Документы/My Family/site/tree.xml').getroot()\n",
    "\n",
    "copy_tree_image(r'D:/Документы/My Family/site/tree_img.png')\n",
    "set_default_documents_for_persons(gedcom, treexml)\n",
    "set_documents_to_marriage(gedcom)\n",
    "set_divorce_events_to_families(gedcom, treexml)\n",
    "pack_documents(gedcom, 'static/tree/tr_tree.files')\n",
    "\n",
    "GedcomWriter().write_gedcom(gedcom, '../data/tr_tree.ged')"
   ]
  },
  {
   "cell_type": "code",
   "execution_count": 109,
   "metadata": {
    "collapsed": false
   },
   "outputs": [
    {
     "name": "stdout",
     "output_type": "stream",
     "text": [
      "0\n"
     ]
    }
   ],
   "source": [
    "import pandas\n",
    "events = pandas.read_csv('data/events.csv', sep=';', skiprows=1)\n",
    "persons = pandas.read_csv('data/persons.csv', sep=';', skiprows=1)\n",
    "documents = pandas.read_csv('data/documents.csv', sep=';', skiprows=1)\n",
    "\n",
    "gedcom = GedcomReader().read_gedcom('data/exmp.ged')\n",
    "print(len(gedcom.persons))\n",
    "for family in gedcom.families:\n",
    "    print(family)"
   ]
  },
  {
   "cell_type": "code",
   "execution_count": 39,
   "metadata": {
    "collapsed": false
   },
   "outputs": [
    {
     "name": "stdout",
     "output_type": "stream",
     "text": [
      "[('BIRT', {'NOTE': 'Старший брат'}), ('DEAT', {}), ('RESI', {'PLAC': 'Россия, Свердловская обл., г.Среднеуральск'})]\n",
      "{}\n",
      "death\n"
     ]
    }
   ],
   "source": [
    "from app_utils import first_or_default\n",
    "\n",
    "gedcom = GedcomReader().read_gedcom('data/exmp.ged')\n",
    "person = gedcom.persons[0]\n",
    "print([(e.event_type, e) for e in person.events])\n",
    "death_event = first_or_default(person.events, lambda e: e.event_type == \"DEAT\")\n",
    "print(death_event)\n",
    "if death_event is not None:\n",
    "    print('death')"
   ]
  },
  {
   "cell_type": "code",
   "execution_count": 2,
   "metadata": {
    "collapsed": false,
    "scrolled": false
   },
   "outputs": [
    {
     "name": "stdout",
     "output_type": "stream",
     "text": [
      "D:\\Документы\\My Family\\site\\data.zip\n"
     ]
    }
   ],
   "source": [
    "import upload\n",
    "archive = upload.create_package(r'D:\\Документы\\My Family\\site', 'data')\n",
    "print(archive)"
   ]
  },
  {
   "cell_type": "code",
   "execution_count": 3,
   "metadata": {
    "collapsed": false
   },
   "outputs": [
    {
     "name": "stdout",
     "output_type": "stream",
     "text": [
      "undefined: [PAGE http://ok.ru/profile/121643311] in {}\n"
     ]
    }
   ],
   "source": [
    "import upload\n",
    "archive = r'D:\\Документы\\My Family\\site\\data.zip'\n",
    "upload.load_package(archive, \n",
    "                    r'C:\\Users\\Ksenia\\Documents\\IPython Notebooks\\genotree\\src\\static\\tree',\n",
    "                    r'C:\\Users\\Ksenia\\Documents\\IPython Notebooks\\genotree\\data\\tree')"
   ]
  },
  {
   "cell_type": "code",
   "execution_count": 1,
   "metadata": {
    "collapsed": false
   },
   "outputs": [
    {
     "name": "stdout",
     "output_type": "stream",
     "text": [
      "line: \n",
      "line: текст\n",
      "line: \n",
      "line: \n",
      "line: private:\n",
      "line: some private text\n",
      "line: \n",
      "line: Внешность: Высокий худой и т.д.\n",
      "line: \n",
      "line: какой-то другой текст\n",
      "line: в несколько строк\n",
      "line: \n"
     ]
    }
   ],
   "source": [
    "from genery_note import Note\n",
    "text = '''\n",
    "текст\n",
    "\n",
    "\n",
    "private:\n",
    "some private text\n",
    "\n",
    "Внешность: Высокий худой и т.д.\n",
    "\n",
    "какой-то другой текст\n",
    "в несколько строк\n",
    "'''\n",
    "n = Note.parse(text)"
   ]
  },
  {
   "cell_type": "code",
   "execution_count": 2,
   "metadata": {
    "collapsed": false
   },
   "outputs": [
    {
     "name": "stdout",
     "output_type": "stream",
     "text": [
      "{'sections': [<genery_note.NoteSection object at 0x0000000004539908>, <genery_note.NoteSection object at 0x0000000004539550>, <genery_note.KeyValueSection object at 0x0000000004539E10>, <genery_note.NoteSection object at 0x0000000004539898>]}\n"
     ]
    }
   ],
   "source": [
    "print (n.__dict__)"
   ]
  },
  {
   "cell_type": "code",
   "execution_count": 2,
   "metadata": {
    "collapsed": false
   },
   "outputs": [
    {
     "data": {
      "text/plain": [
       "['',\n",
       " 'текст',\n",
       " '',\n",
       " '',\n",
       " 'private:',\n",
       " 'some private text',\n",
       " '',\n",
       " 'Внешность: Высокий худой и т.д.',\n",
       " '',\n",
       " 'какой-то другой текст',\n",
       " 'в несколько строк',\n",
       " '']"
      ]
     },
     "execution_count": 2,
     "metadata": {},
     "output_type": "execute_result"
    }
   ],
   "source": [
    "text.split('\\n')"
   ]
  },
  {
   "cell_type": "code",
   "execution_count": null,
   "metadata": {
    "collapsed": true
   },
   "outputs": [],
   "source": []
  }
 ],
 "metadata": {
  "kernelspec": {
   "display_name": "Python 3",
   "language": "python",
   "name": "python3"
  },
  "language_info": {
   "codemirror_mode": {
    "name": "ipython",
    "version": 3
   },
   "file_extension": ".py",
   "mimetype": "text/x-python",
   "name": "python",
   "nbconvert_exporter": "python",
   "pygments_lexer": "ipython3",
   "version": "3.4.5"
  }
 },
 "nbformat": 4,
 "nbformat_minor": 0
}
